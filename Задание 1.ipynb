{
 "cells": [
  {
   "cell_type": "code",
   "execution_count": null,
   "metadata": {},
   "outputs": [],
   "source": [
    "<!DOCTYPE html>\n",
    "<html>\n",
    "\t<head>\n",
    "\t\t<title>\n",
    "\t\t\tIndex\n",
    "\t\t</title>\n",
    "\t</head>\n",
    "\t<body>\n",
    "\t\t<a href=\"about/aboutme.html\">Относительная ссылка на aboutme.html</a>\n",
    "\t\t<br>\n",
    "\t\t<a href=\"https://github.com/KaterinaN98/Practic2018/blob/master/myproject/about/aboutme.html\">Абсолютная ссылка на страницу aboutme.html</a>\n",
    "\t</body>\n",
    "</html>"
   ]
  }
 ],
 "metadata": {
  "kernelspec": {
   "display_name": "Python 3",
   "language": "python",
   "name": "python3"
  },
  "language_info": {
   "codemirror_mode": {
    "name": "ipython",
    "version": 3
   },
   "file_extension": ".py",
   "mimetype": "text/x-python",
   "name": "python",
   "nbconvert_exporter": "python",
   "pygments_lexer": "ipython3",
   "version": "3.7.1"
  }
 },
 "nbformat": 4,
 "nbformat_minor": 2
}
