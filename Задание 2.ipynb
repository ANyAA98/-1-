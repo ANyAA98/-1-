{
 "cells": [
  {
   "cell_type": "markdown",
   "metadata": {},
   "source": [
    "Запрос:\n",
    "open ru.wikipedia.org 80\n",
    "\n",
    "GET /wiki/страница HTTP/1.1     //запрос на доступ к существующему ресурсу\n",
    "Host: ru.wikipedia.org          //адрес сервера\n",
    "User-Agent: Mozilla/5.0 (X11; U; Linux i686; ru; rv:1.9b5) Gecko/2008050509 Firefox/3.0b5     //информация\n",
    "Accept: text/html               //формат ответа\n",
    "Connection: close               //закрытие соединение после получения ответа\n",
    "\n",
    "Ответ сайта:\n",
    "HTTP/1.1 301 TLS Redirect       //переадресация\n",
    "Date: Fri, 25 Jan 2019 23:56:16 GMT     //дата ответа\n",
    "Server: Varnish                 //информация о сервере\n",
    "X-Varnish: 909906235\n",
    "X-Cache: cp3041 int\n",
    "X-Cache-Status: int-front\n",
    "Set-Cookie: WMF-Last-Access=25-Jan-2019;Path=/;HttpOnly;secure;Expires=Tue, 27 Jan 2019 12:00:00 GMT\n",
    "Set-Cookie: WMF-Last-Access-Global=25-Jan-2019;Path=/;Domain=.wikipedia.org;HttpOnly;secure;Expires=Tue, 27 Jan 2019 12:00:00 GMT\n",
    "X-Client-IP: 128.75.127.126\n",
    "Location: https://ru.wikipedia.org/wiki/страница\n",
    "Content-Length: 0\n",
    "Connection: close\n",
    "\n",
    "// 301 Redirect обозначает перенаправление страницы сайта на новый адрес (постоянная переадресация).\n",
    "Ресурс можно найти по другому URL адресу.\n",
    "Location: https://ru.wikipedia.org/wiki/страница - новый адрес (URI по которому клиенту следует перейти).\n",
    "Из ответа сайта мы можем найти информацию о статусе соединения, информации о сервере, дате,\n",
    "типе и длине содержимого, параметре доступа и др."
   ]
  }
 ],
 "metadata": {
  "kernelspec": {
   "display_name": "Python 3",
   "language": "python",
   "name": "python3"
  },
  "language_info": {
   "codemirror_mode": {
    "name": "ipython",
    "version": 3
   },
   "file_extension": ".py",
   "mimetype": "text/x-python",
   "name": "python",
   "nbconvert_exporter": "python",
   "pygments_lexer": "ipython3",
   "version": "3.7.1"
  }
 },
 "nbformat": 4,
 "nbformat_minor": 2
}
