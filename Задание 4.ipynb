{
 "cells": [
  {
   "cell_type": "code",
   "execution_count": null,
   "metadata": {},
   "outputs": [],
   "source": [
    "<html>\n",
    "<head>\n",
    "  <title> Form </title>\n",
    "</head>\n",
    "  <body>\n",
    "    <form action=\"http://httpbin.org/post\" enctype=\"multipart/form-data\" method=\"POST\">\n",
    "\t<p><b>Firstname:</b>\n",
    "\t<br>\n",
    "\t  <input type=\"text\" name=\"firstname\" size=\"25\">\n",
    "\t</p>\n",
    "\t<p><b>Lastname:</b>\n",
    "\t<br>\n",
    "\t  <input type=\"text\" name=\"lastname\" size=\"25\">\n",
    "\t</p>\n",
    "\t<p><b>Group:</b>\n",
    "\t<br>\n",
    "\t  <input type=\"text\" name=\"group\" size=\"25\">\n",
    "\t</p>\n",
    "\t<p><b>Message:</b>\n",
    "\t<br>\n",
    "\t  <textarea name=\"message\"></textarea>\n",
    "\t</p>\n",
    "\t<p><b>Myimg:</b>\n",
    "\t<br>\n",
    "\t  <input type=\"file\" name=\"myimg\">\n",
    "\t</p>\n",
    "\t<p><input type=\"submit\" value=\"Send\">\n",
    "\t</p>\n",
    "    </form>\n",
    "  </body>\n",
    "</html>"
   ]
  }
 ],
 "metadata": {
  "kernelspec": {
   "display_name": "Python 3",
   "language": "python",
   "name": "python3"
  },
  "language_info": {
   "codemirror_mode": {
    "name": "ipython",
    "version": 3
   },
   "file_extension": ".py",
   "mimetype": "text/x-python",
   "name": "python",
   "nbconvert_exporter": "python",
   "pygments_lexer": "ipython3",
   "version": "3.7.1"
  }
 },
 "nbformat": 4,
 "nbformat_minor": 2
}
